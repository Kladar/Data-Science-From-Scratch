{
 "cells": [
  {
   "cell_type": "markdown",
   "metadata": {},
   "source": [
    "# Chapter 8 - Gradient Descent\n",
    "\n",
    "This chapter deals with solving optimization problems from scratch through gradient descent.\n",
    "There's lots of helpful illustrations in this chapter so I recommend reading it. "
   ]
  },
  {
   "cell_type": "code",
   "execution_count": 18,
   "metadata": {},
   "outputs": [],
   "source": [
    "# we'll need some functions from previous chapters\n",
    "import math\n",
    "\n",
    "def vector_subtract(v, w): \n",
    "    return [v_i - w_i\n",
    "           for v_i, w_i in zip(v,w)]\n",
    "\n",
    "def magnitude(v):\n",
    "    return math.sqrt(sum_of_squares(v))\n",
    "\n",
    "def squared_dist(v,w):\n",
    "    return sum_of_squares(vector_subtract(v,w))\n",
    "\n",
    "def distance(v,w):\n",
    "    return magnitude(vector_subtract(v,w))"
   ]
  },
  {
   "cell_type": "code",
   "execution_count": 15,
   "metadata": {},
   "outputs": [],
   "source": [
    "# create some function f that takes in a vector of real numbers and outputs a single real number\n",
    "\n",
    "def sum_of_squares(v):\n",
    "    return sum(v_i ** 2 for v_i in v)\n",
    "\n",
    "# we'll need to often maximize or minimize such functions\n",
    "# the gradient is the vector of partial derivatives, df/dx, and gives the input direction in which the function most quickly increases\n",
    "# Take a small step in the direction of the gradient and re-calculate\n",
    "\n",
    "#beware of local minima, or local-maxima.com (MY PODCAST!)\n",
    "\n",
    "# we want ot measure how f(x) changes when we make a small change in x\n",
    "\n",
    "def difference_quotient(f,x,h):\n",
    "    return (f(x+h) - f(x)) / h\n",
    "\n",
    "# as h approaches zero, or the limit of the difference quotient\n"
   ]
  },
  {
   "cell_type": "code",
   "execution_count": 16,
   "metadata": {},
   "outputs": [
    {
     "data": {
      "image/png": "[encoded data removed]",
      "text/plain": [
       "<matplotlib.figure.Figure at 0x14f3fe51a90>"
      ]
     },
     "metadata": {},
     "output_type": "display_data"
    }
   ],
   "source": [
    "# we can take the actual derivative of a lot of functions and simultaneously remember the best part of high school\n",
    "\n",
    "def square(x):\n",
    "    return x*x\n",
    "\n",
    "def derivative(x):\n",
    "    return 2 * x\n",
    "\n",
    "# but what if we can't explicitly find the gradient? We can find the difference quotient given very small e.\n",
    "from functools import partial \n",
    "\n",
    "derivative_estimate = partial(difference_quotient, square, h=0.00001)\n",
    "\n",
    "# let's plot it to see \n",
    "import matplotlib.pyplot as plt\n",
    "x = list(range(-10, 10))\n",
    "y_1 = list(map(derivative, x)) # work around for matplotlib not taking generators as inputs. \n",
    "y_2 = list(map(derivative_estimate, x))\n",
    "\n",
    "plt.title(\"Actual Derivatives vs Estimates\")\n",
    "plt.plot(x, y_1, 'rx', label='Actual')\n",
    "\n",
    "plt.plot(x, y_2, \"b+\", label='Estimate')\n",
    "plt.legend(loc=9)\n",
    "plt.show()"
   ]
  },
  {
   "cell_type": "code",
   "execution_count": 23,
   "metadata": {},
   "outputs": [
    {
     "name": "stdout",
     "output_type": "stream",
     "text": [
      "[1.0444801517282768e-06, 3.65568053104897e-06, -3.1334404551848313e-06]\n"
     ]
    }
   ],
   "source": [
    "# we'll need partial derivatives, the derivative with respect to one variable holding the others constant\n",
    "\n",
    "def partial_difference_quotient(f, v, i, h,):\n",
    "    w = [v_j + (h if j == i else 0)]\n",
    "    \n",
    "    return (f(w) - f(v)) / h\n",
    "\n",
    "def estimate_gradient(f, v, h=0.00001):\n",
    "    return [partial_difference_quotient(f, v, i, h)\n",
    "           for i, _ in enumerate(v)]\n",
    "\n",
    "# this is computationally expensive. if v has length n, estimate_gradient() has to evaluate f on 2n inputs. beware...\n",
    "\n",
    "# Let's get to the minimum of sum of squares through gradient descent\n",
    "def step(v, direction, step_size):\n",
    "    return [v_i + step_size * direction_i for v_i, direction_i in zip(v, direction)]\n",
    "\n",
    "def sum_of_squares_gradient(v):\n",
    "    return [2 * v_i for v_i in v]\n",
    "\n",
    "# pick a random starting point\n",
    "import random\n",
    "v = [random.randint(-10, 10) for i in range(3)]\n",
    "\n",
    "tolerance = 0.0000001\n",
    "\n",
    "while True:\n",
    "    gradient = sum_of_squares_gradient(v)\n",
    "    next_v = step(v, gradient, -0.01)\n",
    "    if distance(next_v, v) < tolerance:\n",
    "        break\n",
    "    v = next_v\n",
    "print(v)\n",
    "    \n",
    "    "
   ]
  },
  {
   "cell_type": "code",
   "execution_count": 25,
   "metadata": {},
   "outputs": [],
   "source": [
    "# the smaller you make the tolerance, the closer you get to the actual answer which is obviously 0,0,0\n",
    "\n",
    "# choosing step size is as much art as science. We can try a bunch to estimate which is best\n",
    "step_sizes = [100, 10, 1, 0.1, 0.01, 0.001, 0.0001, 0.00001]\n",
    "\n",
    "# we can make a safety function that makes sure certain inputs that break our function don't get through\n",
    "def safe(f):\n",
    "    def safe_f(*args, **kwargs):\n",
    "        try:\n",
    "            return f(*args, **kwagrs)\n",
    "        except:\n",
    "            float('inf')\n",
    "            \n",
    "    return safe_f\n"
   ]
  },
  {
   "cell_type": "markdown",
   "metadata": {},
   "source": [
    "## Let's put it all together\n",
    "We have same target function and it's gradient. We could be minimizing errors in a model as a function of its parameters. We choose a starting value (however we do that) and implement gradient descent:"
   ]
  },
  {
   "cell_type": "code",
   "execution_count": 27,
   "metadata": {},
   "outputs": [],
   "source": [
    "def minimize_batch(target_fn, gradient_fn, theta_0, tolerance=0.000001):\n",
    "    step_sizes = [100, 10, 1, 0.1, 0.01, 0.001, 0.0001, 0.00001]\n",
    "    theta = theta_0\n",
    "    target_fn = safe(target_fn)\n",
    "    value = target_fn(theta)\n",
    "    \n",
    "    while True:\n",
    "        gradient = gradient_fn(theta)\n",
    "        next_thetas = [step(theta, gradient, -step_size) for step_size in step_sizes]\n",
    "        next_theta = min(next_thetas, key=target_fn) # choosing the one that minimizes the error function\n",
    "        next_value = target_fn(next_theta)\n",
    "        \n",
    "        # stop if converging\n",
    "        if abs(value - next_value) < tolerance:\n",
    "            return theta\n",
    "        else:\n",
    "            theta, vaue = next_theta, next_value\n",
    "# in this case we take in all the data. we'll see later how to look at a point at a time"
   ]
  },
  {
   "cell_type": "code",
   "execution_count": 28,
   "metadata": {},
   "outputs": [],
   "source": [
    "# sometimes we want to maximize, or minimize the negative of a function\n",
    "\n",
    "def negate(f):\n",
    "    return lambda *args, **kwargs: -f(*args, **kwargs)\n",
    "\n",
    "def negate_all(f):\n",
    "    return lambda *args, **kwargs: [-y for y in -f(*args, **kwargs)]\n",
    "\n",
    "def maximize_batch(target_fn, gradient_fn, theta_0, tolerance=0.000001):\n",
    "    return minimize_batch(negate(target_fn), negate_all(gradient_fn), theta_0, tolerance)\n",
    "\n",
    "# we'll use this stuff throughout the rest of the book\n"
   ]
  },
  {
   "cell_type": "markdown",
   "metadata": {},
   "source": [
    "## Stochastic Gradient Descent\n",
    "I've only ever used it in machine learning, it's nice to see it from scratch. \n",
    "\n",
    "The reason the batch method is slow is that we have to make a prediction and compute the gradient for the whole data set at each step. Usually the error functions are additive, which means the predictive error on the whole data set is simply the sum of the predictive errors for each data point. When this is the case, we can compute the gradient and take a step for only one point at a time. "
   ]
  },
  {
   "cell_type": "code",
   "execution_count": 30,
   "metadata": {},
   "outputs": [],
   "source": [
    "# in each cycle we want to iterate through our data in a random order\n",
    "\n",
    "def in_random_order(data):\n",
    "    indices = [i for i, _ in enumerate(data)]\n",
    "    random.shuffle(indices) #Joel writes indexes but that's not the pluralization.\n",
    "    for i in indices:\n",
    "        yield data[i]\n",
    "        \n",
    "# and then we take a gradient step and quit when we stop getting improvements\n",
    "\n",
    "def minimize_stochastic(target_fn, gradient_fn, x, y, theta_0, alpha_0=0.01):\n",
    "    \n",
    "    data = zip(x,y,)\n",
    "    theta = theta_0\n",
    "    alpha = alpha_0\n",
    "    \n",
    "    min_theta, min_value = None, float('inf')\n",
    "    iterations_with_no_improvement = 0\n",
    "    \n",
    "    # we want to stop when we don't see any improvement try shrinking the step size, but if we do keep going\n",
    "    while iterations_with_no_improvement < 100:\n",
    "        value = sum( target_fn(x_i, y_i, theta) for x_i, y_i in data )\n",
    "        \n",
    "        if value < min_value:\n",
    "            min_theta, min_value = theta, value\n",
    "            iterations_with_no_improvement = 0\n",
    "            alpha = alpha_0\n",
    "        else:\n",
    "            iterations_with_no_improvement += 1\n",
    "            alpha *= 0.9\n",
    "            \n",
    "        # take a gradient step\n",
    "        for x_i, y_i in in_random_order(data):\n",
    "            gradient_i = gradient_fn(x_i, y_i, that)\n",
    "            theta = vector_subtract(theta, scalar_multiply(alpha, gradient_i))\n",
    "            \n",
    "    return min_theta\n",
    "# this will be faster than the batch version\n",
    "\n",
    "# we want a maximizer as well\n",
    "def maximize_stochastic(target_fn, gradient_fn, x, y, theta_0, alpha_0=0.01):\n",
    "    return minimize_stochastic(negate(target_fn), negate_all(gradient_fn), x, y, theta_0, alpha_0) # quite the one-liner\n",
    "\n"
   ]
  },
  {
   "cell_type": "markdown",
   "metadata": {},
   "source": [
    "## This concludes Chapter 8.\n",
    "\n",
    "We'll be using these functions a lot in the rest of the book. For a calculus refresher there's Active Calculus, which does sound nice than Thomas' Calculus. Thomas' calculus is all of undergraduate calculus in one place, and actually a pretty good textbook, but it looks nicer on the shelf than it does for refreshing reading.\n",
    "\n",
    "Scikit learn and tensorflow both have stochastic gradient descent functions that might be nicer that ours (and obviously keras does everything for you) but"
   ]
  }
 ],
 "metadata": {
  "kernelspec": {
   "display_name": "Python 3",
   "language": "python",
   "name": "python3"
  },
  "language_info": {
   "codemirror_mode": {
    "name": "ipython",
    "version": 3
   },
   "file_extension": ".py",
   "mimetype": "text/x-python",
   "name": "python",
   "nbconvert_exporter": "python",
   "pygments_lexer": "ipython3",
   "version": "3.6.4"
  }
 },
 "nbformat": 4,
 "nbformat_minor": 2
}
