{
 "cells": [
  {
   "cell_type": "markdown",
   "metadata": {},
   "source": [
    "## This is for working through chapters in Data Science from Scratch by Joel Grus\n",
    "\n",
    "# Chapter 2: A Crash Course in Python\n",
    "\n",
    "Chapter 1 was introductory so I skipped it. Also, this is a very introductory python chapter so I'm just writing out some of the basics and then moving on to the more interesting chapters. \n"
   ]
  },
  {
   "cell_type": "code",
   "execution_count": 1,
   "metadata": {},
   "outputs": [],
   "source": [
    "# lambda functions are a thing\n",
    "\n",
    "y = apply_to_one(lambda x: x+4)\n",
    "\n",
    "# but you can probably use def in most cases\n",
    "\n",
    "anothe_double = lambda X: 2* x # don't do this\n",
    "def another_double(x): return 2 * x # do this instead\n"
   ]
  },
  {
   "cell_type": "code",
   "execution_count": 14,
   "metadata": {},
   "outputs": [
    {
     "name": "stdout",
     "output_type": "stream",
     "text": [
      "my default message\n",
      "new message\n"
     ]
    }
   ],
   "source": [
    "# default arguments for functions\n",
    "\n",
    "def my_print(message='my default message'):\n",
    "    print(message)\n",
    "    \n",
    "my_print()\n",
    "my_print('new message')"
   ]
  },
  {
   "cell_type": "code",
   "execution_count": 17,
   "metadata": {},
   "outputs": [
    {
     "name": "stdout",
     "output_type": "stream",
     "text": [
      "cannot divide by zero\n"
     ]
    }
   ],
   "source": [
    "# trying some exceptions\n",
    "\n",
    "try:\n",
    "    print(0 / 0)\n",
    "except ZeroDivisionError:\n",
    "    print('cannot divide by zero')"
   ]
  },
  {
   "cell_type": "code",
   "execution_count": 18,
   "metadata": {},
   "outputs": [
    {
     "name": "stdout",
     "output_type": "stream",
     "text": [
      "Cannot modify a tuple\n"
     ]
    }
   ],
   "source": [
    "# lists are easy. Tuples are more interesting\n",
    "\n",
    "my_list =[1, 2]\n",
    "my_tuple = (1, 2)\n",
    "other_tuple = 3, 4\n",
    "my_list[1] = 3\n",
    "\n",
    "try:\n",
    "    my_tuple[1] = 3\n",
    "except TypeError:\n",
    "    print('Cannot modify a tuple')"
   ]
  },
  {
   "cell_type": "code",
   "execution_count": 19,
   "metadata": {},
   "outputs": [
    {
     "name": "stdout",
     "output_type": "stream",
     "text": [
      "No grade here!\n"
     ]
    },
    {
     "ename": "NameError",
     "evalue": "name 'document' is not defined",
     "output_type": "error",
     "traceback": [
      "\u001b[1;31m---------------------------------------------------------------------------\u001b[0m",
      "\u001b[1;31mNameError\u001b[0m                                 Traceback (most recent call last)",
      "\u001b[1;32m<ipython-input-19-0be0804b7a2c>\u001b[0m in \u001b[0;36m<module>\u001b[1;34m()\u001b[0m\n\u001b[0;32m     19\u001b[0m \u001b[1;33m\u001b[0m\u001b[0m\n\u001b[0;32m     20\u001b[0m \u001b[0mword_counts\u001b[0m \u001b[1;33m=\u001b[0m \u001b[0mdefaultdict\u001b[0m\u001b[1;33m(\u001b[0m\u001b[0mint\u001b[0m\u001b[1;33m)\u001b[0m\u001b[1;33m\u001b[0m\u001b[0m\n\u001b[1;32m---> 21\u001b[1;33m \u001b[1;32mfor\u001b[0m \u001b[0mword\u001b[0m \u001b[1;32min\u001b[0m \u001b[0mdocument\u001b[0m\u001b[1;33m:\u001b[0m\u001b[1;33m\u001b[0m\u001b[0m\n\u001b[0m\u001b[0;32m     22\u001b[0m     \u001b[0mword_counts\u001b[0m\u001b[1;33m[\u001b[0m\u001b[0mword\u001b[0m\u001b[1;33m]\u001b[0m \u001b[1;33m+=\u001b[0m \u001b[1;36m1\u001b[0m\u001b[1;33m\u001b[0m\u001b[0m\n\u001b[0;32m     23\u001b[0m \u001b[1;33m\u001b[0m\u001b[0m\n",
      "\u001b[1;31mNameError\u001b[0m: name 'document' is not defined"
     ]
    }
   ],
   "source": [
    "# basics with dictionaries\n",
    "\n",
    "empty_dict = {} # pythonic\n",
    "empty_dict2 = dict() #less-pythonic\n",
    "grades = {'joel': 80, 'Tim': 95} # dictionary literal\n",
    "\n",
    "joels_grade = grades['joel']\n",
    "\n",
    "try: \n",
    "    kates_grade = grades['Kate']\n",
    "    \n",
    "except KeyError:\n",
    "    print('No grade here!')\n",
    "    \n",
    "# defaultdict is like a dict but whenever you look up a key it doesn't contain, it first adds a value for it using \n",
    "# zero argument function you provide when you create it. The following is psuedocode:\n",
    "\n",
    "from collections import defaultdict\n",
    "\n",
    "word_counts = defaultdict(int)\n",
    "for word in document:\n",
    "    word_counts[word] += 1\n",
    "    \n",
    "\n",
    "    "
   ]
  },
  {
   "cell_type": "code",
   "execution_count": null,
   "metadata": {},
   "outputs": [],
   "source": [
    "from collections import Counter\n",
    "\n",
    "c = Counter([0,1,2,0])\n",
    "\n",
    "word_counts = Counter(some_document)\n",
    "\n",
    "for word in word_counts,most_common(10):\n",
    "    print word, count\n",
    "    \n",
    "    "
   ]
  },
  {
   "cell_type": "code",
   "execution_count": null,
   "metadata": {},
   "outputs": [],
   "source": [
    "# Sets are fine but I pretty much always use pandas. Spreadsheet state of mind\n",
    "\n",
    "stopwords_set = set(stopwords_list)\n",
    "\"zip\" in stopwords_set # very fast to check membership\n",
    "\n"
   ]
  },
  {
   "cell_type": "code",
   "execution_count": 24,
   "metadata": {},
   "outputs": [
    {
     "name": "stdout",
     "output_type": "stream",
     "text": [
      "even\n"
     ]
    }
   ],
   "source": [
    "# control flow using if\n",
    "\n",
    "if 1>2:\n",
    "    message = \"if only 1 were greater than 2\"\n",
    "elif 1>3:\n",
    "    message = 'elif stands for else if'\n",
    "else:\n",
    "    message = 'when all else fails use else'\n",
    "\n",
    "# if statements as one-liners\n",
    "\n",
    "x=2 # try 1 or 3\n",
    "parity = 'even' if x % 2 == 0 else \"odd\"\n",
    "print(parity)\n"
   ]
  },
  {
   "cell_type": "markdown",
   "metadata": {},
   "source": [
    "## More complicated stuff (though not that complicated)"
   ]
  },
  {
   "cell_type": "code",
   "execution_count": 26,
   "metadata": {},
   "outputs": [
    {
     "name": "stdout",
     "output_type": "stream",
     "text": [
      "[-4, -3, 2, 1]\n"
     ]
    }
   ],
   "source": [
    "# Sorting\n",
    "\n",
    "x =[4,2,1,3]\n",
    "y = sorted(x) # to create a new sorted list\n",
    "x.sort() # to change x\n",
    "# This method is naive\n",
    "# Sorted can take arguments and functions etc\n",
    "\n",
    "x = sorted([-4,2,-3,1], key=abs, reverse=True)\n",
    "print(x)\n",
    "\n",
    "# Hypothetically sort the words and counts from highest count to lowest\n",
    "\n",
    "word_count = sorted(word_count-.items(), key=lambda (word, count): count, reverse=True)\n",
    "\n",
    "\n"
   ]
  },
  {
   "cell_type": "code",
   "execution_count": 30,
   "metadata": {},
   "outputs": [
    {
     "name": "stdout",
     "output_type": "stream",
     "text": [
      "[0, 2, 4]\n",
      "[(0, 0), (0, 1), (0, 2), (0, 3), (0, 4), (0, 5), (0, 6), (0, 7), (0, 8), (0, 9), (1, 0), (1, 1), (1, 2), (1, 3), (1, 4), (1, 5), (1, 6), (1, 7), (1, 8), (1, 9), (2, 0), (2, 1), (2, 2), (2, 3), (2, 4), (2, 5), (2, 6), (2, 7), (2, 8), (2, 9), (3, 0), (3, 1), (3, 2), (3, 3), (3, 4), (3, 5), (3, 6), (3, 7), (3, 8), (3, 9), (4, 0), (4, 1), (4, 2), (4, 3), (4, 4), (4, 5), (4, 6), (4, 7), (4, 8), (4, 9), (5, 0), (5, 1), (5, 2), (5, 3), (5, 4), (5, 5), (5, 6), (5, 7), (5, 8), (5, 9), (6, 0), (6, 1), (6, 2), (6, 3), (6, 4), (6, 5), (6, 6), (6, 7), (6, 8), (6, 9), (7, 0), (7, 1), (7, 2), (7, 3), (7, 4), (7, 5), (7, 6), (7, 7), (7, 8), (7, 9), (8, 0), (8, 1), (8, 2), (8, 3), (8, 4), (8, 5), (8, 6), (8, 7), (8, 8), (8, 9), (9, 0), (9, 1), (9, 2), (9, 3), (9, 4), (9, 5), (9, 6), (9, 7), (9, 8), (9, 9)]\n",
      "[(0, 1), (0, 2), (0, 3), (0, 4), (0, 5), (0, 6), (0, 7), (0, 8), (0, 9), (1, 2), (1, 3), (1, 4), (1, 5), (1, 6), (1, 7), (1, 8), (1, 9), (2, 3), (2, 4), (2, 5), (2, 6), (2, 7), (2, 8), (2, 9), (3, 4), (3, 5), (3, 6), (3, 7), (3, 8), (3, 9), (4, 5), (4, 6), (4, 7), (4, 8), (4, 9), (5, 6), (5, 7), (5, 8), (5, 9), (6, 7), (6, 8), (6, 9), (7, 8), (7, 9), (8, 9)]\n"
     ]
    }
   ],
   "source": [
    "# List comprehensions\n",
    "\n",
    "even_nums = [x for x in range(5) if x % 2 == 0]\n",
    "print (even_nums)\n",
    "\n",
    "# can have multiple fors\n",
    "\n",
    "pairs = [(x,y) for x in range(10)\n",
    "        for y in range(10)]\n",
    "\n",
    "print(pairs)\n",
    "\n",
    "# and can use previous fors\n",
    "\n",
    "pairs = [(x,y) for x in range(10)\n",
    "        for y in range(x+1, 10)]\n",
    "\n",
    "print(pairs)\n",
    "\n",
    "\n"
   ]
  },
  {
   "cell_type": "code",
   "execution_count": 34,
   "metadata": {},
   "outputs": [
    {
     "name": "stdout",
     "output_type": "stream",
     "text": [
      "[0.860161037286291, 0.603190610968185, 0.3816059859191179, 0.28361821790671515]\n",
      "0.5714025946899135\n",
      "0.5714025946899135\n",
      "[0, 1, 2, 3, 4, 5, 6, 7, 8, 9]\n",
      "[4, 5, 8, 1, 2, 6, 7, 3, 0, 9]\n",
      "[4, 15, 47, 23, 2, 26]\n"
     ]
    }
   ],
   "source": [
    "# trials in randomness\n",
    "\n",
    "import random\n",
    "\n",
    "four_uniform_randoms = [random.random() for _ in range(4)]\n",
    "print(four_uniform_randoms)\n",
    "\n",
    "\n",
    "random.seed(10)\n",
    "print(random.random())\n",
    "\n",
    "random.seed(10)\n",
    "print(random.random())\n",
    "\n",
    "random.randrange(10) # choose randomly from 1 through 9\n",
    "random.randrange(3,6) # choose randomly from 3, 4, 5\n",
    "\n",
    "up_to_ten = list(range(10)) # randomly reorder a list\n",
    "print(up_to_ten)\n",
    "random.shuffle(up_to_ten)\n",
    "print(up_to_ten)\n",
    "\n",
    "friend = random.choice(['Alice', 'Bob', 'Charlie']) #randomly choose from list\n",
    "\n",
    "lottery_nums = range(60)\n",
    "winning_nums = random.sample(lottery_nums, 6) # take a random sample without replacement\n",
    "print(winning_nums)\n"
   ]
  },
  {
   "cell_type": "code",
   "execution_count": null,
   "metadata": {},
   "outputs": [],
   "source": [
    "# enumerate\n",
    "# produces tuples (index, element):\n",
    "\n",
    "for i, document in enumerate(documents):\n",
    "    do_something(i, document)\n",
    "    \n",
    "# if we want indices\n",
    "\n",
    "for i in range(len(documents)): \n",
    "    do_something(i) # not pythonic\n",
    "    \n",
    "for i, _ in enumerate(documents):\n",
    "    do_something(i) # more pythonic\n",
    "    \n",
    "\n",
    "    \n",
    "    "
   ]
  },
  {
   "cell_type": "code",
   "execution_count": 37,
   "metadata": {},
   "outputs": [
    {
     "name": "stdout",
     "output_type": "stream",
     "text": [
      "('a', 'b', 'c', 'd') (1, 2, 3, 4)\n"
     ]
    }
   ],
   "source": [
    "# zipping and unpacking\n",
    "\n",
    "list1 = ['a','b','c','d']\n",
    "list2 = [1,2,3,4]\n",
    "pairs = zip(list1,list2)\n",
    "\n",
    "# can unpack using asterisk\n",
    "letters, nums = zip(*pairs)\n",
    "\n",
    "print(letters, nums)\n"
   ]
  },
  {
   "cell_type": "code",
   "execution_count": 40,
   "metadata": {},
   "outputs": [
    {
     "name": "stdout",
     "output_type": "stream",
     "text": [
      "unnamed args: (1, 2)\n",
      "unnamed kwargs: {'key': 'word', 'key2': 'word2'}\n",
      "6\n"
     ]
    }
   ],
   "source": [
    "# args and kwargs: defining functions that can take an abritrary amount of arguments\n",
    "\n",
    "def magic(*args, **kwargs):\n",
    "    print('unnamed args:', args)\n",
    "    print('unnamed kwargs:', kwargs)\n",
    "    \n",
    "magic(1,2, key='word', key2='word2')\n",
    "\n",
    "def f2(x,y):\n",
    "    return x+y\n",
    "\n",
    "def doubler(f):\n",
    "    def g(*args, **kwargs):\n",
    "        return 2 * f(*args, **kwargs)\n",
    "    return g\n",
    "\n",
    "g = doubler(f2)\n",
    "print(g(1,2))\n",
    "\n"
   ]
  },
  {
   "cell_type": "markdown",
   "metadata": {},
   "source": [
    "## This concludes chapter 2!"
   ]
  }
 ],
 "metadata": {
  "kernelspec": {
   "display_name": "Python 3",
   "language": "python",
   "name": "python3"
  },
  "language_info": {
   "codemirror_mode": {
    "name": "ipython",
    "version": 3
   },
   "file_extension": ".py",
   "mimetype": "text/x-python",
   "name": "python",
   "nbconvert_exporter": "python",
   "pygments_lexer": "ipython3",
   "version": "3.6.4"
  }
 },
 "nbformat": 4,
 "nbformat_minor": 2
}
