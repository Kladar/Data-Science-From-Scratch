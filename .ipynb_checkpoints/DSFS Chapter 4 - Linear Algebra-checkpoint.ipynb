{
 "cells": [
  {
   "cell_type": "markdown",
   "metadata": {},
   "source": [
    "# Chapter 4 - Linear Algebra\n",
    "## Dealing with vector spaces!\n",
    "\n",
    "This is where the fun begins..."
   ]
  },
  {
   "cell_type": "code",
   "execution_count": 5,
   "metadata": {},
   "outputs": [],
   "source": [
    "# zipping vectors and using list comprehension\n",
    "from functools import partial\n",
    "from functools import reduce\n",
    "\n",
    "def vector_add(v, w):\n",
    "    return [v_i + w_i\n",
    "           for v_i, w_i in zip (v, w)]\n",
    "\n",
    "def vector_subtract(v, w): \n",
    "    return [v_i - w_i\n",
    "           for v_i, w_i in zip(v,w)]\n",
    "\n",
    "def vector_sum(vectors):\n",
    "    result = vectors[0]\n",
    "    for vector in vector[1:]:\n",
    "        result = vector_add(result, vector)\n",
    "        \n",
    "    return result\n",
    "\n",
    "# or even\n",
    "def vector_sum(vectors):\n",
    "    return reduce(vector_add, vectors)\n",
    "\n",
    "# or even still\n",
    "vector_sum = partial(reduce, vector_add) # might be more clever than helpful\n",
    "\n",
    "\n",
    "# creating mean functions\n",
    "def scalar_multiply(c, v):\n",
    "    return [c * v_i for v_i in v]\n",
    "\n",
    "def vector_mean(vectors):\n",
    "    n = len(vectors)\n",
    "    \n",
    "    return scalar_multiply(1/n, vector_sum(vectors))\n",
    "\n",
    "# dot product\n",
    "def dot(v, w):\n",
    "    return sum(v_i * w_i\n",
    "              for v_i, w_i in zip(v,w))\n",
    "\n",
    "def sum_of_squares(v):\n",
    "    return dot(v,v)\n",
    "\n",
    "# magnitudes\n",
    "import math\n",
    "def magnitude(v):\n",
    "    return math.sqrt(sum_of_squares(v))\n",
    "\n",
    "def squared_dist(v,w):\n",
    "    return sum_of_squares(vector_subtract(v,w))\n",
    "\n",
    "def distance(v,w):\n",
    "    return magnitude(vector_subtract(v,w))\n",
    "\n"
   ]
  },
  {
   "cell_type": "markdown",
   "metadata": {},
   "source": [
    "## This is for illustrative purposes only. If we were really doing vector maths we would probably use Numpy since the arrays have much better performance. I like Pandas Series as well, though not as familiar with the performance vs numpy"
   ]
  },
  {
   "cell_type": "code",
   "execution_count": 9,
   "metadata": {},
   "outputs": [
    {
     "name": "stdout",
     "output_type": "stream",
     "text": [
      "[[1, 0, 0, 0, 0], [0, 1, 0, 0, 0], [0, 0, 1, 0, 0], [0, 0, 0, 1, 0], [0, 0, 0, 0, 1]]\n"
     ]
    }
   ],
   "source": [
    "# Matrices! Also, starting to implement the dbader/michael kennedy convention of ending lists with a trailing comma since\n",
    "# otherwise you can get two strings added if you forget commas in between. Just a small thing\n",
    "\n",
    "A = [[1, 2, 3,],\n",
    "     [4, 5, 6,]]\n",
    "\n",
    "B = [[1, 2,],\n",
    "     [3, 4,],\n",
    "     [5, 6,]]\n",
    "\n",
    "def shape(matrix):\n",
    "    num_rows = len(matrix)\n",
    "    num_cols = len(matrix[0]) if matrlix else 0\n",
    "    \n",
    "    return num_rows, num_cols\n",
    "\n",
    "def get_row(A, i):\n",
    "    return A[i]\n",
    "\n",
    "def get_col(A, j):\n",
    "    return [A_i[j]\n",
    "           for A_i in A]\n",
    "def make_matrix(num_rows, num_cols, entry_fn):\n",
    "    return [[entry_fn(i,j)\n",
    "            for j in range(num_cols)]\n",
    "            for i in range(num_rows)]\n",
    "\n",
    "def is_diag(i,j,):\n",
    "    return 1 if i == j else 0\n",
    "\n",
    "identity_matrix = make_matrix(5,5, is_diag)\n",
    "\n",
    "print(identity_matrix)"
   ]
  },
  {
   "cell_type": "markdown",
   "metadata": {},
   "source": [
    "We can use matrices to represent data better than other ways. Instead of having to inspect every edge of a graph to see if two nodes are connect, be can do a simple matrix lookup of all the connections represented as a 0 or a 1. Much faster, and can accomdate changing graphs.\n",
    "\n",
    "For more on linear algebra, check out \"Linear Algebra Done Wrong\" for a more advanced introduction. (I think this is good for now; I took it in college)\n",
    "\n",
    "Again, everything is in numpy and pandas (especially for matrices) so use those rather than lists.\n",
    "\n",
    "On to Statistics! (Which I also took in college...)\n"
   ]
  }
 ],
 "metadata": {
  "kernelspec": {
   "display_name": "Python 3",
   "language": "python",
   "name": "python3"
  },
  "language_info": {
   "codemirror_mode": {
    "name": "ipython",
    "version": 3
   },
   "file_extension": ".py",
   "mimetype": "text/x-python",
   "name": "python",
   "nbconvert_exporter": "python",
   "pygments_lexer": "ipython3",
   "version": "3.6.4"
  }
 },
 "nbformat": 4,
 "nbformat_minor": 2
}
