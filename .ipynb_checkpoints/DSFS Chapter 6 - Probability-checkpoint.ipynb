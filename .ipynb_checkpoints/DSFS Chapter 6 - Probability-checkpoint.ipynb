{
 "cells": [
  {
   "cell_type": "markdown",
   "metadata": {},
   "source": [
    "# This chapter is all about Probability and Python.\n",
    "\n",
    "We often forget how unintuitive probability is and use it quite poorly in everyday life."
   ]
  },
  {
   "cell_type": "code",
   "execution_count": null,
   "metadata": {},
   "outputs": [],
   "source": [
    "# We'll use probability theory all over the place, apparently\n",
    "\n",
    "# The probability that if a family, having two children, and the older child is a girl, that if they have two girls is 50%\n",
    "# However, the probability that a family has two children and either child is a girl, that they have two girls is only 1/3\n",
    "# This is because the probability of having a boy and a girl is twice as likely in the scenario (since either the older or \n",
    "# younger child could be a girl), than having both girls. Let's test it by generating a bunch of families\n",
    "\n",
    "import random\n",
    "def random_kid():\n",
    "    return random.choice([\"boy\", \"girl\",])\n",
    "\n",
    "both_girls = 0\n",
    "older_girl = 0\n",
    "either_girl = 0\n",
    "\n",
    "random.seed(0)\n",
    "for _ in range(100000000): # Joel does 10,000 but I have an i7 8600k so get at me 100,000,000 families\n",
    "    younger = random_kid()\n",
    "    older = random_kid()\n",
    "    if older == \"girl\":\n",
    "        older_girl += 1\n",
    "    if older == \"girl\" and younger == \"girl\":\n",
    "        both_girls += 1\n",
    "    if older == \"girl\" or younger == \"girl\":\n",
    "        either_girl += 1\n",
    "        \n",
    "print(\"P(both | older):\", both_girls / older_girl)\n",
    "print(\"P(both | either):\", both_girls / either_girl)\n"
   ]
  },
  {
   "cell_type": "code",
   "execution_count": null,
   "metadata": {},
   "outputs": [],
   "source": []
  }
 ],
 "metadata": {
  "kernelspec": {
   "display_name": "Python 3",
   "language": "python",
   "name": "python3"
  },
  "language_info": {
   "codemirror_mode": {
    "name": "ipython",
    "version": 3
   },
   "file_extension": ".py",
   "mimetype": "text/x-python",
   "name": "python",
   "nbconvert_exporter": "python",
   "pygments_lexer": "ipython3",
   "version": "3.6.4"
  }
 },
 "nbformat": 4,
 "nbformat_minor": 2
}
