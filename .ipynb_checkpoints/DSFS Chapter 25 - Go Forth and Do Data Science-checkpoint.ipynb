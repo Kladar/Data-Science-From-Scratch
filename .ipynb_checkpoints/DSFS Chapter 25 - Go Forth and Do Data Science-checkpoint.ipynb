{
 "cells": [
  {
   "cell_type": "markdown",
   "metadata": {},
   "source": [
    "# Chapter 25 - Go Forth and Do Data Science\n",
    "\n",
    "This is the end! We did it. \n",
    "\n",
    "1. Math is important. For linear algebra, for statistics, for machine learning. Recommended that you keep learning more math throughout your data science travels and in life. Linear optimization anyone?\n",
    "2. Not From Scratch: there's tons of stuff out there that's already been built. Don't do it from scratch ever again.\n",
    "    a. NumPy - real scientific computing and the building block of many other libraries. Worth knowing.\n",
    "    b. pandas - this is what I use every day and my favorite library. still so much to learn.\n",
    "    c. scikit-learn - older code sir, but it checks out. ML library\n",
    "    d. matplotlib - oldy but a goody. use seaborn to make it more attractive. use d3.js for interactive web stuff. Bokeh is the project that brings D3 into python. \n",
    "    e. R - nah. (Joel is great on this)\n",
    " \n",
    "3. Finding Data. Data.gov, reddit r/data and r/datasets, amazon.com pulic datasets, Robb Seaton, Kaggle, more!\n",
    "\n",
    "\n",
    "Joel built a shirt classifier based on 10-dimensional space eigenshirts, a firetruck centrality metric called TruckRank, and a classifier for Hacker News articles with hand labeled data. What a guy.\n",
    "\n",
    "\n",
    "For my own, I'm interested in energy. I think we are barreling toward ecological collapse and that we need to stop putting carbon in the atmosphere. I need to make a dent in carbon footprints, and I think I know how to do it..."
   ]
  }
 ],
 "metadata": {
  "kernelspec": {
   "display_name": "Python 3",
   "language": "python",
   "name": "python3"
  },
  "language_info": {
   "codemirror_mode": {
    "name": "ipython",
    "version": 3
   },
   "file_extension": ".py",
   "mimetype": "text/x-python",
   "name": "python",
   "nbconvert_exporter": "python",
   "pygments_lexer": "ipython3",
   "version": "3.7.0"
  }
 },
 "nbformat": 4,
 "nbformat_minor": 2
}
